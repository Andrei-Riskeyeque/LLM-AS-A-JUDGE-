{
 "cells": [
  {
   "cell_type": "code",
   "execution_count": 3,
   "metadata": {},
   "outputs": [],
   "source": [
    "from langchain.prompts import PromptTemplate\n",
    "\n",
    "from langchain_openai import ChatOpenAI\n",
    "\n",
    "from langchain.output_parsers import PydanticOutputParser\n",
    "from langchain.prompts import ChatPromptTemplate\n",
    "\n",
    "from typing import Optional,List\n",
    "from langchain_core.pydantic_v1 import BaseModel, conint\n",
    "import datetime\n",
    "\n",
    "import numpy as np\n",
    "import json\n",
    "import pickle\n",
    "\n",
    "#from dotenv import load_dotenv\n",
    "#load_dotenv(\"../data/.env\")"
   ]
  },
  {
   "cell_type": "code",
   "execution_count": 4,
   "metadata": {},
   "outputs": [],
   "source": [
    "llm = ChatOpenAI(model=\"gpt-4o\")"
   ]
  },
  {
   "cell_type": "code",
   "execution_count": 5,
   "metadata": {},
   "outputs": [],
   "source": [
    "class MetricsScore(BaseModel):\n",
    "    criteria_feedback: Optional[str]\n",
    "    criteria_outcome: Optional[conint(ge=0, le=1)]\n",
    "\n",
    "class Metrics(BaseModel):\n",
    "    relevance: Optional[List[MetricsScore]]\n",
    "    factual_accuracy: Optional[List[MetricsScore]]\n",
    "    completeness: List[MetricsScore]\n",
    "    toxicity: List[MetricsScore]"
   ]
  },
  {
   "cell_type": "code",
   "execution_count": null,
   "metadata": {},
   "outputs": [],
   "source": []
  }
 ],
 "metadata": {
  "kernelspec": {
   "display_name": ".venv",
   "language": "python",
   "name": "python3"
  },
  "language_info": {
   "codemirror_mode": {
    "name": "ipython",
    "version": 3
   },
   "file_extension": ".py",
   "mimetype": "text/x-python",
   "name": "python",
   "nbconvert_exporter": "python",
   "pygments_lexer": "ipython3",
   "version": "3.12.4"
  }
 },
 "nbformat": 4,
 "nbformat_minor": 2
}
